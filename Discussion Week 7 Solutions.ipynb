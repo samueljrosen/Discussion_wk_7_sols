{
 "cells": [
  {
   "cell_type": "code",
   "execution_count": 2,
   "id": "f30b2be1",
   "metadata": {},
   "outputs": [],
   "source": [
    "import numpy as np\n",
    "import matplotlib.pyplot as plt"
   ]
  },
  {
   "cell_type": "markdown",
   "id": "4294e8c6",
   "metadata": {},
   "source": [
    "# Ex 1. Gaussian Distributions"
   ]
  },
  {
   "cell_type": "markdown",
   "id": "67ff21d9",
   "metadata": {},
   "source": [
    "For the first exercise, lets practice using numpy and matplotlib to graph a Gaussian distribution!"
   ]
  },
  {
   "cell_type": "code",
   "execution_count": 3,
   "id": "75a6a82c",
   "metadata": {},
   "outputs": [],
   "source": [
    "#Mu is the average of the Gaussian, the point it is centered around\n",
    "#Sigma is the standard deviation\n",
    "mu, sigma = 0, 0.1 \n",
    "#Use np.random.normal to generate 1000 points and store them in a variable. \n",
    "#np.random.normal already puts the points into an array, so you just need to \n",
    "s = np.random.normal(mu, sigma, 1000)"
   ]
  },
  {
   "cell_type": "code",
   "execution_count": 5,
   "id": "1633043c",
   "metadata": {},
   "outputs": [
    {
     "name": "stdout",
     "output_type": "stream",
     "text": [
      "0.09992646221871568\n"
     ]
    }
   ],
   "source": [
    "#Verify the standard deviation of s is 0.1 \n",
    "#The standard deviation from Numpy will be around 0.1, but not quite 0.1\n",
    "print(np.std(s))"
   ]
  },
  {
   "cell_type": "code",
   "execution_count": 6,
   "id": "3aa02de2",
   "metadata": {},
   "outputs": [
    {
     "name": "stdout",
     "output_type": "stream",
     "text": [
      "-0.004251213985079123\n"
     ]
    }
   ],
   "source": [
    "#Verify that the mean of s is 0\n",
    "#The mean from Numpy will be around 0, but not quite 0\n",
    "print(np.mean(s))"
   ]
  },
  {
   "cell_type": "code",
   "execution_count": 13,
   "id": "21b23509",
   "metadata": {},
   "outputs": [
    {
     "data": {
      "text/plain": [
       "[<matplotlib.lines.Line2D at 0x10d5bbf40>]"
      ]
     },
     "execution_count": 13,
     "metadata": {},
     "output_type": "execute_result"
    },
    {
     "data": {
      "image/png": "[encoded data removed]",
      "text/plain": [
       "<Figure size 432x288 with 1 Axes>"
      ]
     },
     "metadata": {
      "needs_background": "light"
     },
     "output_type": "display_data"
    }
   ],
   "source": [
    "#Plot s as a histogram. \n",
    "#Use plt.hist and use 30 bins and make sure that the kwarg density is True\n",
    "#So include density=True when you do plt.hist\n",
    "count, bins, ignored = plt.hist(s,30,density=True)\n",
    "#Now, plot an actual Gaussian and compare our generated points with an actual Gaussian! \n",
    "GAUSS = 1/(sigma * np.sqrt(2 * np.pi)) * np.exp( - (bins - mu)**2 / (2 * sigma**2))\n",
    "plt.plot(bins, GAUSS)"
   ]
  },
  {
   "cell_type": "markdown",
   "id": "944c4741",
   "metadata": {},
   "source": [
    "# Ex 2. Gold Digging"
   ]
  },
  {
   "cell_type": "markdown",
   "id": "b6ac8ac3",
   "metadata": {},
   "source": [
    "You don't need to be Madonna's new boyfriend to dig for gold (sorry Madonna IDK why you're catching strays in this discussion also I love Madonna's music wait why I am apologizing WE'RE GETTING OFF TRACK) and in this Numpy excercise, you'll have the chance to strike some riches! We are going to make a 7x7 matrix where each element is how much gold is at that location. Then we are going to randomly mine in 5 of those locations and count the amount of gold we collected! Fun right!!!!!"
   ]
  },
  {
   "cell_type": "code",
   "execution_count": 14,
   "id": "732f5383",
   "metadata": {},
   "outputs": [
    {
     "name": "stdout",
     "output_type": "stream",
     "text": [
      "[[4 4 1 4 8 2 1]\n",
      " [5 8 5 4 5 9 8]\n",
      " [7 4 2 6 2 8 3]\n",
      " [4 4 0 4 6 8 5]\n",
      " [0 8 1 6 9 9 0]\n",
      " [2 4 7 4 1 9 5]\n",
      " [7 3 6 5 9 5 6]]\n"
     ]
    }
   ],
   "source": [
    "#So everyone has the same random numbers \n",
    "np.random.seed(1348)\n",
    "#Use np.random.randint to generate a 7x7 array of random numbers where the lowest value an element can be\n",
    "#is 0 and that highest a random number can be is 10\n",
    "gold = np.random.randint(low=0, high=10, size=(7,7))\n",
    "print(gold)"
   ]
  },
  {
   "cell_type": "code",
   "execution_count": 18,
   "id": "347fbf63",
   "metadata": {},
   "outputs": [],
   "source": [
    "#Locations we are mining\n",
    "locs = np.array(([2,5],[4,6],[0,1],[3,3],[5,4]))"
   ]
  },
  {
   "cell_type": "code",
   "execution_count": 23,
   "id": "90709f04",
   "metadata": {},
   "outputs": [
    {
     "name": "stdout",
     "output_type": "stream",
     "text": [
      "[1 3]\n"
     ]
    },
    {
     "data": {
      "text/plain": [
       "17"
      ]
     },
     "execution_count": 23,
     "metadata": {},
     "output_type": "execute_result"
    }
   ],
   "source": [
    "#Mine each of the locations and do this in one line!\n",
    "#Hint: Use 2D array slicing on locs to get all of the row values\n",
    "#and then all of the column values\n",
    "\n",
    "#An example of the slicing im describing is:\n",
    "my_hint = np.array([[1,2],[3,4]])\n",
    "print(my_hint[:, 0])\n",
    "\n",
    "#Add up all the gold we mined!\n",
    "sum(gold[locs[:, 0], locs[:, 1]])"
   ]
  },
  {
   "cell_type": "code",
   "execution_count": null,
   "id": "1ac0ae9c",
   "metadata": {},
   "outputs": [],
   "source": []
  }
 ],
 "metadata": {
  "kernelspec": {
   "display_name": "Python 3 (ipykernel)",
   "language": "python",
   "name": "python3"
  },
  "language_info": {
   "codemirror_mode": {
    "name": "ipython",
    "version": 3
   },
   "file_extension": ".py",
   "mimetype": "text/x-python",
   "name": "python",
   "nbconvert_exporter": "python",
   "pygments_lexer": "ipython3",
   "version": "3.9.12"
  }
 },
 "nbformat": 4,
 "nbformat_minor": 5
}
